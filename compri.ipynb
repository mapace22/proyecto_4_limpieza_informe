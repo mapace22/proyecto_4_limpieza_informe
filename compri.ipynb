{
 "cells": [
  {
   "cell_type": "code",
   "execution_count": 6,
   "id": "f771eebe",
   "metadata": {},
   "outputs": [
    {
     "name": "stdout",
     "output_type": "stream",
     "text": [
      "Cargando el archivo 'C:/Users/Marcel Palma/Desktop/Tripleten/Proyecto Sprint 4 Instacart/order_products.csv'...\n",
      "Comprimiendo y guardando en 'tu_archivo.csv.gz'...\n",
      "¡Compresión completa! El archivo está listo para ser subido.\n"
     ]
    }
   ],
   "source": [
    "import pandas as pd\n",
    "import os\n",
    "\n",
    "# Define el nombre de tu archivo de entrada y el archivo de salida\n",
    "input_file = 'C:/Users/Marcel Palma/Desktop/Tripleten/Proyecto Sprint 4 Instacart/order_products.csv'\n",
    "output_file = \"tu_archivo.csv.gz\"\n",
    "\n",
    "# Verifica si el archivo de entrada existe\n",
    "if not os.path.exists(input_file):\n",
    "    print(f\"Error: El archivo '{input_file}' no se encontró. Asegúrate de que el archivo esté en el mismo directorio que este script.\")\n",
    "else:\n",
    "    try:\n",
    "        # Carga el archivo CSV en un DataFrame\n",
    "        print(f\"Cargando el archivo '{input_file}'...\")\n",
    "        df = pd.read_csv(input_file)\n",
    "\n",
    "        # Guarda el DataFrame en formato CSV con compresión gzip\n",
    "        print(f\"Comprimiendo y guardando en '{output_file}'...\")\n",
    "        df.to_csv(output_file, compression='gzip', index=False)\n",
    "        print(\"¡Compresión completa! El archivo está listo para ser subido.\")\n",
    "\n",
    "    except Exception as e:\n",
    "        print(f\"Ocurrió un error: {e}\")"
   ]
  }
 ],
 "metadata": {
  "kernelspec": {
   "display_name": "Python 3",
   "language": "python",
   "name": "python3"
  },
  "language_info": {
   "codemirror_mode": {
    "name": "ipython",
    "version": 3
   },
   "file_extension": ".py",
   "mimetype": "text/x-python",
   "name": "python",
   "nbconvert_exporter": "python",
   "pygments_lexer": "ipython3",
   "version": "3.12.9"
  }
 },
 "nbformat": 4,
 "nbformat_minor": 5
}
